{
 "cells": [
  {
   "cell_type": "markdown",
   "metadata": {},
   "source": [
    "Logistic Regression with Bag-of-words features.\n",
    "-----------------------------------------------\n",
    "\n",
    "This is a basic implementation of CBOW without considering scalability issue. A more scalable implementation can be found at <a \\href=\"https://github.com/tensorflow/tensorflow/blob/r0.10/tensorflow/examples/tutorials/word2vec/word2vec_basic.py\">word2vec basic implementation on Tensorflow</a>"
   ]
  },
  {
   "cell_type": "code",
   "execution_count": 1,
   "metadata": {
    "collapsed": true,
    "nbpresent": {
     "id": "fcef795d-8cd1-430d-865a-7c6db1290a91"
    }
   },
   "outputs": [],
   "source": [
    "import tensorflow as tf"
   ]
  },
  {
   "cell_type": "code",
   "execution_count": 2,
   "metadata": {
    "collapsed": true,
    "nbpresent": {
     "id": "9bc931b6-7b98-49aa-abf7-6c4d0612a61a"
    }
   },
   "outputs": [],
   "source": [
    "import numpy as np"
   ]
  },
  {
   "cell_type": "code",
   "execution_count": 3,
   "metadata": {
    "collapsed": true,
    "nbpresent": {
     "id": "97ce6a4d-fe0d-4d40-ba87-7b2d3fb6826e"
    }
   },
   "outputs": [],
   "source": [
    "from nltk import word_tokenize"
   ]
  },
  {
   "cell_type": "code",
   "execution_count": 4,
   "metadata": {
    "collapsed": true
   },
   "outputs": [],
   "source": [
    "from random import shuffle"
   ]
  },
  {
   "cell_type": "code",
   "execution_count": 5,
   "metadata": {
    "collapsed": true
   },
   "outputs": [],
   "source": [
    "train_ngrams = ['study in the united states',\n",
    "'live in new zealand',\n",
    "'study in canada UNK canadian',\n",
    "'study in the january NUM',\n",
    "'stay in the new england',\n",
    "'study in the december NUM',\n",
    "'study in the us PUN',\n",
    "'live in the us END_S',\n",
    "'study in the united kingdom'\n",
    "'live in the usa PUN'\n",
    "'study in clinical trials PUN',\n",
    "'work in the united states',\n",
    "'work in australia PUN',\n",
    "'its meeting on NUM january',\n",
    "'annual meeting on NUM december',\n",
    "'a meeting on january NUM',\n",
    "'ordinary meeting on NUM december',\n",
    "'regular meeting of february NUM']"
   ]
  },
  {
   "cell_type": "code",
   "execution_count": 6,
   "metadata": {
    "collapsed": false
   },
   "outputs": [],
   "source": [
    "import collections\n",
    "from collections import namedtuple\n",
    "Ngram = namedtuple('Ngram', 'context c_word')"
   ]
  },
  {
   "cell_type": "code",
   "execution_count": 7,
   "metadata": {
    "collapsed": true
   },
   "outputs": [],
   "source": [
    "def tokenize(ngram):\n",
    "    return word_tokenize(ngram)"
   ]
  },
  {
   "cell_type": "markdown",
   "metadata": {},
   "source": [
    "Map each word to its ID and build the reverse map."
   ]
  },
  {
   "cell_type": "code",
   "execution_count": 8,
   "metadata": {
    "collapsed": true
   },
   "outputs": [],
   "source": [
    "def build_vocab(train_set):\n",
    "    words = list()\n",
    "    for ngram in train_set:\n",
    "        tokens = tokenize(ngram)\n",
    "        words.extend(tokens)\n",
    "    count = collections.Counter(words).most_common()\n",
    "    word_to_id = dict()\n",
    "    word_to_id['PAD'] = 0\n",
    "    for word, _ in count:\n",
    "        word_to_id[word] = len(word_to_id)\n",
    "    id_to_word = dict(zip(word_to_id.values(), word_to_id.keys()))\n",
    "    return word_to_id, id_to_word"
   ]
  },
  {
   "cell_type": "code",
   "execution_count": 9,
   "metadata": {
    "collapsed": true
   },
   "outputs": [],
   "source": [
    "def map_token_seq_to_word_id_seq(token_seq, word_to_id):\n",
    "    return [map_word_to_id(word_to_id,word) for word in token_seq]\n",
    "\n",
    "\n",
    "def map_word_to_id(word_to_id, word):\n",
    "    if word in word_to_id:\n",
    "        return word_to_id[word]\n",
    "    else:\n",
    "        return word_to_id['PAD']\n"
   ]
  },
  {
   "cell_type": "markdown",
   "metadata": {},
   "source": [
    "Build a training dataset. Each instance(data point) consists of the ID of a word and the IDs of its context words."
   ]
  },
  {
   "cell_type": "code",
   "execution_count": 10,
   "metadata": {
    "collapsed": true
   },
   "outputs": [],
   "source": [
    "def build_dataset(train_set, word_to_id, window_size):\n",
    "    dataset = list()\n",
    "    for ngram in train_set:\n",
    "        tokens = tokenize(ngram)\n",
    "        word_id_seq = map_token_seq_to_word_id_seq(tokens, word_to_id)\n",
    "        for i in range(len(word_id_seq)):\n",
    "            word_context = [word_to_id['PAD']] * 2 * window_size\n",
    "            for p_in_context in range(window_size):\n",
    "                # position to the left of the current word in the given ngram\n",
    "                p_left_ngram = i - window_size + p_in_context\n",
    "                if p_left_ngram >= 0:\n",
    "                    word_context[p_in_context] = word_id_seq[p_left_ngram]\n",
    "                # position to the right of the current word in the given ngram\n",
    "                p_right_ngram = i + p_in_context + 1\n",
    "                if p_right_ngram < len(word_id_seq):\n",
    "                    word_context[p_in_context + window_size] = word_id_seq[p_right_ngram]\n",
    "            # word_context is the list of context word ids. c_word is the id of the current word.\n",
    "            ngram_inst = Ngram(context=word_context, c_word=word_id_seq[i])\n",
    "            dataset.append(ngram_inst)\n",
    "    return dataset"
   ]
  },
  {
   "cell_type": "code",
   "execution_count": 11,
   "metadata": {
    "collapsed": false
   },
   "outputs": [],
   "source": [
    "def print_dataset(dataset, id_to_word):\n",
    "    for inst in dataset:\n",
    "        print(\"%s : %s\" % ([id_to_word[id] for id in inst.context], id_to_word[inst.c_word]))"
   ]
  },
  {
   "cell_type": "code",
   "execution_count": 12,
   "metadata": {
    "collapsed": false
   },
   "outputs": [
    {
     "name": "stdout",
     "output_type": "stream",
     "text": [
      "['PAD', 'PAD', 'in', 'the'] : study\n",
      "['PAD', 'study', 'the', 'united'] : in\n",
      "['study', 'in', 'united', 'states'] : the\n",
      "['in', 'the', 'states', 'PAD'] : united\n",
      "['the', 'united', 'PAD', 'PAD'] : states\n",
      "['PAD', 'PAD', 'in', 'new'] : live\n",
      "['PAD', 'live', 'new', 'zealand'] : in\n",
      "['live', 'in', 'zealand', 'PAD'] : new\n",
      "['in', 'new', 'PAD', 'PAD'] : zealand\n",
      "['PAD', 'PAD', 'in', 'canada'] : study\n",
      "['PAD', 'study', 'canada', 'UNK'] : in\n",
      "['study', 'in', 'UNK', 'canadian'] : canada\n",
      "['in', 'canada', 'canadian', 'PAD'] : UNK\n",
      "['canada', 'UNK', 'PAD', 'PAD'] : canadian\n",
      "['PAD', 'PAD', 'in', 'the'] : study\n",
      "['PAD', 'study', 'the', 'january'] : in\n",
      "['study', 'in', 'january', 'NUM'] : the\n",
      "['in', 'the', 'NUM', 'PAD'] : january\n",
      "['the', 'january', 'PAD', 'PAD'] : NUM\n",
      "['PAD', 'PAD', 'in', 'the'] : stay\n",
      "['PAD', 'stay', 'the', 'new'] : in\n",
      "['stay', 'in', 'new', 'england'] : the\n",
      "['in', 'the', 'england', 'PAD'] : new\n",
      "['the', 'new', 'PAD', 'PAD'] : england\n",
      "['PAD', 'PAD', 'in', 'the'] : study\n",
      "['PAD', 'study', 'the', 'december'] : in\n",
      "['study', 'in', 'december', 'NUM'] : the\n",
      "['in', 'the', 'NUM', 'PAD'] : december\n",
      "['the', 'december', 'PAD', 'PAD'] : NUM\n",
      "['PAD', 'PAD', 'in', 'the'] : study\n",
      "['PAD', 'study', 'the', 'us'] : in\n",
      "['study', 'in', 'us', 'PUN'] : the\n",
      "['in', 'the', 'PUN', 'PAD'] : us\n",
      "['the', 'us', 'PAD', 'PAD'] : PUN\n",
      "['PAD', 'PAD', 'in', 'the'] : live\n",
      "['PAD', 'live', 'the', 'us'] : in\n",
      "['live', 'in', 'us', 'END_S'] : the\n",
      "['in', 'the', 'END_S', 'PAD'] : us\n",
      "['the', 'us', 'PAD', 'PAD'] : END_S\n",
      "['PAD', 'PAD', 'in', 'the'] : study\n",
      "['PAD', 'study', 'the', 'united'] : in\n",
      "['study', 'in', 'united', 'kingdomlive'] : the\n",
      "['in', 'the', 'kingdomlive', 'in'] : united\n",
      "['the', 'united', 'in', 'the'] : kingdomlive\n",
      "['united', 'kingdomlive', 'the', 'usa'] : in\n",
      "['kingdomlive', 'in', 'usa', 'PUNstudy'] : the\n",
      "['in', 'the', 'PUNstudy', 'in'] : usa\n",
      "['the', 'usa', 'in', 'clinical'] : PUNstudy\n",
      "['usa', 'PUNstudy', 'clinical', 'trials'] : in\n",
      "['PUNstudy', 'in', 'trials', 'PUN'] : clinical\n",
      "['in', 'clinical', 'PUN', 'PAD'] : trials\n",
      "['clinical', 'trials', 'PAD', 'PAD'] : PUN\n",
      "['PAD', 'PAD', 'in', 'the'] : work\n",
      "['PAD', 'work', 'the', 'united'] : in\n",
      "['work', 'in', 'united', 'states'] : the\n",
      "['in', 'the', 'states', 'PAD'] : united\n",
      "['the', 'united', 'PAD', 'PAD'] : states\n",
      "['PAD', 'PAD', 'in', 'australia'] : work\n",
      "['PAD', 'work', 'australia', 'PUN'] : in\n",
      "['work', 'in', 'PUN', 'PAD'] : australia\n",
      "['in', 'australia', 'PAD', 'PAD'] : PUN\n",
      "['PAD', 'PAD', 'meeting', 'on'] : its\n",
      "['PAD', 'its', 'on', 'NUM'] : meeting\n",
      "['its', 'meeting', 'NUM', 'january'] : on\n",
      "['meeting', 'on', 'january', 'PAD'] : NUM\n",
      "['on', 'NUM', 'PAD', 'PAD'] : january\n",
      "['PAD', 'PAD', 'meeting', 'on'] : annual\n",
      "['PAD', 'annual', 'on', 'NUM'] : meeting\n",
      "['annual', 'meeting', 'NUM', 'december'] : on\n",
      "['meeting', 'on', 'december', 'PAD'] : NUM\n",
      "['on', 'NUM', 'PAD', 'PAD'] : december\n",
      "['PAD', 'PAD', 'meeting', 'on'] : a\n",
      "['PAD', 'a', 'on', 'january'] : meeting\n",
      "['a', 'meeting', 'january', 'NUM'] : on\n",
      "['meeting', 'on', 'NUM', 'PAD'] : january\n",
      "['on', 'january', 'PAD', 'PAD'] : NUM\n",
      "['PAD', 'PAD', 'meeting', 'on'] : ordinary\n",
      "['PAD', 'ordinary', 'on', 'NUM'] : meeting\n",
      "['ordinary', 'meeting', 'NUM', 'december'] : on\n",
      "['meeting', 'on', 'december', 'PAD'] : NUM\n",
      "['on', 'NUM', 'PAD', 'PAD'] : december\n",
      "['PAD', 'PAD', 'meeting', 'of'] : regular\n",
      "['PAD', 'regular', 'of', 'february'] : meeting\n",
      "['regular', 'meeting', 'february', 'NUM'] : of\n",
      "['meeting', 'of', 'NUM', 'PAD'] : february\n",
      "['of', 'february', 'PAD', 'PAD'] : NUM\n"
     ]
    }
   ],
   "source": [
    "word_to_id, id_to_word = build_vocab(train_ngrams)\n",
    "train_set = build_dataset(train_ngrams, word_to_id, 2)\n",
    "print_dataset(train_set, id_to_word)"
   ]
  },
  {
   "cell_type": "markdown",
   "metadata": {},
   "source": [
    "Convert label y = word_id into its vector format with 1-of-K encoding.  "
   ]
  },
  {
   "cell_type": "code",
   "execution_count": 13,
   "metadata": {
    "collapsed": true
   },
   "outputs": [],
   "source": [
    "def convert_to_label_vec(word_id, num_words):\n",
    "    # initialise a zero vector of the length num_words\n",
    "    label_vec = [0] * num_words\n",
    "    label_vec[word_id] = 1\n",
    "    return label_vec"
   ]
  },
  {
   "cell_type": "code",
   "execution_count": 14,
   "metadata": {
    "collapsed": true
   },
   "outputs": [],
   "source": [
    "def train_eval(word_to_id, train_dataset, dev_dataset, num_epochs=10, learning_rate=0.1, embedding_dim=10):\n",
    "    num_words = len(word_to_id)\n",
    "    # Placeholders are inputs of the computation graph. \n",
    "    input_ngram = tf.placeholder(tf.int32, shape = [None])\n",
    "    correct_label = tf.placeholder(tf.float32, shape=[num_words])\n",
    "    # Word embeddings are the only parameters of the model\n",
    "    embeddings = tf.Variable(tf.random_uniform([num_words, embedding_dim], -1.0, 1.0))\n",
    "    # bias is not needed for embeddings\n",
    "    # b = tf.Variable(tf.zeros([num_words]))\n",
    "\n",
    "    with tf.Session() as sess:\n",
    "        embed = tf.nn.embedding_lookup(embeddings, input_ngram)\n",
    "        tmp_m = tf.reduce_sum(embed, 0)\n",
    "        sum_rep = tf.reshape(tmp_m, [1, embedding_dim])\n",
    "        # Formulate word embedding learning as a word prediction task. Note that, no negative sampling is applied here.\n",
    "        y = tf.nn.softmax(tf.matmul(sum_rep, embeddings, transpose_b = True))\n",
    "        cross_entropy = tf.reduce_mean(-tf.reduce_sum(correct_label * tf.log(y), reduction_indices=[1]))\n",
    "\n",
    "        #evaluation code\n",
    "        correct_prediction = tf.equal(tf.argmax(y, 1), tf.argmax(correct_label, 0))\n",
    "        accuracy = tf.cast(correct_prediction, tf.float32)\n",
    "\n",
    "        sess.run(tf.initialize_all_variables())\n",
    "        # Build SGD optimizer\n",
    "        train_step = tf.train.GradientDescentOptimizer(learning_rate).minimize(cross_entropy)\n",
    "        for epoch in range(num_epochs):\n",
    "            shuffle(train_dataset)\n",
    "            for ngram_inst in train_dataset:\n",
    "                # Run one step of SGD to update word embeddings.\n",
    "                train_step.run(feed_dict={input_ngram: ngram_inst.context, correct_label: convert_to_label_vec(ngram_inst.c_word, num_words)})\n",
    "            # demonstrate the learning process of showing training accuracy.\n",
    "            # If early stopping is desired, a validation set should be provided here instead of the train set. \n",
    "            # A simple heuristic rule for early stopping :  \n",
    "            # Stop after accuracy on the validation set keep decreasing m epochs.   \n",
    "            print('Epoch %d : %s .' % (epoch,compute_accuracy(num_words, accuracy,input_ngram, correct_label, dev_dataset)))\n",
    "    return embeddings\n"
   ]
  },
  {
   "cell_type": "code",
   "execution_count": 15,
   "metadata": {
    "collapsed": true
   },
   "outputs": [],
   "source": [
    "def compute_accuracy(num_words, accuracy,input_ngram, correct_label, eval_dataset):\n",
    "    num_correct = 0\n",
    "    for ngram_inst in eval_dataset:\n",
    "        num_correct += accuracy.eval(feed_dict={input_ngram: ngram_inst.context, correct_label: convert_to_label_vec(ngram_inst.c_word, num_words)})\n",
    "    print('#correct words is %s ' % num_correct)\n",
    "    return num_correct / len(eval_dataset)"
   ]
  },
  {
   "cell_type": "code",
   "execution_count": 16,
   "metadata": {
    "collapsed": false
   },
   "outputs": [
    {
     "name": "stdout",
     "output_type": "stream",
     "text": [
      "#correct words is [ 11.] \n",
      "Epoch 0 : [ 0.12790698] .\n",
      "#correct words is [ 24.] \n",
      "Epoch 1 : [ 0.27906978] .\n",
      "#correct words is [ 25.] \n",
      "Epoch 2 : [ 0.29069766] .\n",
      "#correct words is [ 28.] \n",
      "Epoch 3 : [ 0.3255814] .\n",
      "#correct words is [ 31.] \n",
      "Epoch 4 : [ 0.36046511] .\n",
      "#correct words is [ 28.] \n",
      "Epoch 5 : [ 0.3255814] .\n",
      "#correct words is [ 39.] \n",
      "Epoch 6 : [ 0.45348838] .\n",
      "#correct words is [ 26.] \n",
      "Epoch 7 : [ 0.30232558] .\n",
      "#correct words is [ 29.] \n",
      "Epoch 8 : [ 0.33720931] .\n",
      "#correct words is [ 26.] \n",
      "Epoch 9 : [ 0.30232558] .\n"
     ]
    }
   ],
   "source": [
    "learned_embeddings = train_eval(word_to_id, train_set, train_set)"
   ]
  }
 ],
 "metadata": {
  "anaconda-cloud": {},
  "kernelspec": {
   "display_name": "Python [Root]",
   "language": "python",
   "name": "Python [Root]"
  },
  "language_info": {
   "codemirror_mode": {
    "name": "ipython",
    "version": 3
   },
   "file_extension": ".py",
   "mimetype": "text/x-python",
   "name": "python",
   "nbconvert_exporter": "python",
   "pygments_lexer": "ipython3",
   "version": "3.5.2"
  },
  "nbpresent": {
   "slides": {
    "0c929226-b8aa-4f81-9dd7-b9f9c868cb2f": {
     "id": "0c929226-b8aa-4f81-9dd7-b9f9c868cb2f",
     "prev": null,
     "regions": {
      "9850417f-328a-427c-98ce-31c3042e594d": {
       "attrs": {
        "height": 0.8,
        "width": 0.45,
        "x": 0.05,
        "y": 0.1
       },
       "id": "9850417f-328a-427c-98ce-31c3042e594d"
      },
      "c199cf9b-d4f5-4fb1-8d5f-6d5263b6e0f1": {
       "attrs": {
        "height": 0.8,
        "width": 0.45,
        "x": 0.5,
        "y": 0.1
       },
       "id": "c199cf9b-d4f5-4fb1-8d5f-6d5263b6e0f1"
      }
     }
    }
   },
   "themes": {}
  }
 },
 "nbformat": 4,
 "nbformat_minor": 0
}
